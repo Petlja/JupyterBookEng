{
 "cells": [
  {
   "cell_type": "markdown",
   "metadata": {},
   "source": [
    "# 6. Representing data as tables\n",
    "\n",
    "In this lecture we demonstrate:\n",
    "1. how to represent tables using lists;\n",
    "2. how to represent tables using a more efficient model provided by the _pandas_ library;\n",
    "3. how to visualize data represented as tables; and\n",
    "4. how to read tables from local files and remote resources."
   ]
  },
  {
   "cell_type": "markdown",
   "metadata": {},
   "source": [
    "## 6.1. Representing tables by lists\n",
    "\n",
    "The most efficient way to organize large amounts of data is to put them in a table. For example, this table contains some basic facts about a group of students:\n",
    "\n",
    "| __Name__ | __Sex__ | __Age (yrs)__ | __Weight (kg)__ | __Height (cm)__ |\n",
    "|---|---|---|---|---|\n",
    "|     Anne | f | 13 | 46 | 160 |\n",
    "|      Ben | m | 14 | 52 | 165 |\n",
    "|    Colin | m | 13 | 47 | 157 |\n",
    "|    Diana | f | 15 | 54 | 165 |\n",
    "|    Ethan | m | 15 | 56 | 163 |\n",
    "|     Fred | m | 13 | 45 | 159 |\n",
    "|   Gloria | f | 14 | 49 | 161 |\n",
    "|   Hellen | f | 15 | 52 | 164 |\n",
    "|      Ian | m | 15 | 57 | 167 |\n",
    "|     Jane | f | 13 | 45 | 158 |\n",
    "|     Kate | f | 14 | 51 | 162 |\n",
    "\n",
    "We shall represent each row in this table as a list, and then put all the these lists into a new list:"
   ]
  },
  {
   "cell_type": "code",
   "execution_count": null,
   "metadata": {},
   "outputs": [],
   "source": [
    "students = [[\"Anne\",    \"f\", 13, 46, 160],\n",
    "            [\"Ben\",     \"m\", 14, 52, 165],\n",
    "            [\"Colin\",   \"m\", 13, 47, 157],\n",
    "            [\"Diana\",   \"f\", 15, 54, 165],\n",
    "            [\"Ethan\",   \"m\", 15, 56, 163],\n",
    "            [\"Fred\",    \"m\", 13, 45, 159],\n",
    "            [\"Gloria\",  \"f\", 14, 49, 161],\n",
    "            [\"Hellen\",  \"f\", 15, 52, 164],\n",
    "            [\"Ian\",     \"m\", 15, 57, 167],\n",
    "            [\"Jane\",    \"f\", 13, 45, 158],\n",
    "            [\"Kate\",    \"f\", 14, 51, 162]]"
   ]
  },
  {
   "cell_type": "markdown",
   "metadata": {},
   "source": [
    "We can now easily retrieve the information about any student in the group. For example, to see the information about Ethan we simply type `students[4]` (_Important! The first element of the list in indexed by 0, so Ethan's list has index 4_):"
   ]
  },
  {
   "cell_type": "code",
   "execution_count": null,
   "metadata": {},
   "outputs": [],
   "source": [
    "students[4]"
   ]
  },
  {
   "cell_type": "markdown",
   "metadata": {},
   "source": [
    "On the other hand, this way of representing tables in inconvenient because it is not easy to work with the columns of the table. For example, if we wanted to compute the average height of the students in the group we would have to write a program:"
   ]
  },
  {
   "cell_type": "code",
   "execution_count": null,
   "metadata": {},
   "outputs": [],
   "source": [
    "sum = 0\n",
    "for s in students:\n",
    "    sum += s[4]\n",
    "float(sum) / len(students)"
   ]
  },
  {
   "cell_type": "markdown",
   "metadata": {},
   "source": [
    "This how the code does the job:\n",
    "\n",
    "* we first initialize the variable `sum` to 0 (eventually it will contain the sum of the heights of the students);\n",
    "* the code then loops through each student in the group and adds its height to `sum` (the height of a student is the numer at the index 4 of the list);\n",
    "* finally, we compute the average.\n",
    "\n",
    "This is not hard but also not very convenient. We need a more flexible data structure."
   ]
  },
  {
   "cell_type": "markdown",
   "metadata": {},
   "source": [
    "## 6.2. _pandas_, _DataFrame_ and working with the columns of the table\n",
    "\n",
    "The _pandas_ library has been developed with efficient manupulation of tables in mind. Let's import the library and give it a nickname:"
   ]
  },
  {
   "cell_type": "code",
   "execution_count": null,
   "metadata": {},
   "outputs": [],
   "source": [
    "import pandas as pd"
   ]
  },
  {
   "cell_type": "markdown",
   "metadata": {},
   "source": [
    "This library provides a powerful data structure called _DataFrame_. Let us start by converting the data on the group of students into a DataFrame:"
   ]
  },
  {
   "cell_type": "code",
   "execution_count": null,
   "metadata": {},
   "outputs": [],
   "source": [
    "students_df = pd.DataFrame(students)"
   ]
  },
  {
   "cell_type": "markdown",
   "metadata": {},
   "source": [
    "This command simply rearranges the data from the list `students` into a DataFrame. Let's see what a DataFrame looks like:"
   ]
  },
  {
   "cell_type": "code",
   "execution_count": null,
   "metadata": {},
   "outputs": [],
   "source": [
    "students_df"
   ]
  },
  {
   "cell_type": "markdown",
   "metadata": {},
   "source": [
    "All the information is there, arranged in a neat table. To make the table more readable we shall name the columns of the table using the option `columns`:"
   ]
  },
  {
   "cell_type": "code",
   "execution_count": null,
   "metadata": {},
   "outputs": [],
   "source": [
    "students_df.columns=[\"Name\", \"Sex\", \"Age\", \"Weight\", \"Height\"]\n",
    "students_df"
   ]
  },
  {
   "cell_type": "markdown",
   "metadata": {},
   "source": [
    "Now that each column has its name we can access the individual colums like this:"
   ]
  },
  {
   "cell_type": "code",
   "execution_count": null,
   "metadata": {},
   "outputs": [],
   "source": [
    "students_df[\"Name\"]"
   ]
  },
  {
   "cell_type": "code",
   "execution_count": null,
   "metadata": {},
   "outputs": [],
   "source": [
    "students_df[\"Height\"]"
   ]
  },
  {
   "cell_type": "markdown",
   "metadata": {},
   "source": [
    "You can always get the name of all the columns in the table:"
   ]
  },
  {
   "cell_type": "code",
   "execution_count": null,
   "metadata": {},
   "outputs": [],
   "source": [
    "students_df.columns"
   ]
  },
  {
   "cell_type": "markdown",
   "metadata": {},
   "source": [
    "The following functions make it easy for us to compute the elementary statistics on columns of a DataFrame:\n",
    "* `sum` -- the sum of the elements in a column;\n",
    "* `mean` -- the average value (_arithmetic mean_) of the elements in a column;\n",
    "* `median` -- the median value of the elements in a column;\n",
    "* `min` -- the minimal value of the elements in a column;\n",
    "* `max` -- the maximal value of the elements in a column.\n",
    "\n",
    "For example, the height of the shortest student is:"
   ]
  },
  {
   "cell_type": "code",
   "execution_count": null,
   "metadata": {},
   "outputs": [],
   "source": [
    "students_df[\"Height\"].min()"
   ]
  },
  {
   "cell_type": "markdown",
   "metadata": {},
   "source": [
    "The age of the oldest student:"
   ]
  },
  {
   "cell_type": "code",
   "execution_count": null,
   "metadata": {},
   "outputs": [],
   "source": [
    "students_df[\"Age\"].max()"
   ]
  },
  {
   "cell_type": "markdown",
   "metadata": {},
   "source": [
    "The average height of students:"
   ]
  },
  {
   "cell_type": "code",
   "execution_count": null,
   "metadata": {},
   "outputs": [],
   "source": [
    "students_df[\"Height\"].mean()"
   ]
  },
  {
   "cell_type": "markdown",
   "metadata": {},
   "source": [
    "The medial height:"
   ]
  },
  {
   "cell_type": "code",
   "execution_count": null,
   "metadata": {},
   "outputs": [],
   "source": [
    "students_df[\"Height\"].median()"
   ]
  },
  {
   "cell_type": "markdown",
   "metadata": {},
   "source": [
    "Can the entire group fit in an elevator which holds at most 600 kg?"
   ]
  },
  {
   "cell_type": "code",
   "execution_count": null,
   "metadata": {},
   "outputs": [],
   "source": [
    "if students_df[\"Weight\"].sum() <= 600:\n",
    "    print(\"Yes\")\n",
    "else:\n",
    "    print(\"No\")"
   ]
  },
  {
   "cell_type": "markdown",
   "metadata": {},
   "source": [
    "## 6.3. Visualizing data represented by DataFrames"
   ]
  },
  {
   "cell_type": "markdown",
   "metadata": {},
   "source": [
    "This is easy: just select the columns you would like to visualize. To see a few examples we start by loading our favourite library:"
   ]
  },
  {
   "cell_type": "code",
   "execution_count": null,
   "metadata": {},
   "outputs": [],
   "source": [
    "import matplotlib.pyplot as plt"
   ]
  },
  {
   "cell_type": "markdown",
   "metadata": {},
   "source": [
    "To visualize the height of students in the group we simply plot a bar chart which displays names and heights of students:"
   ]
  },
  {
   "cell_type": "code",
   "execution_count": null,
   "metadata": {},
   "outputs": [],
   "source": [
    "plt.figure(figsize=(10,5))\n",
    "plt.bar(students_df[\"Name\"], students_df[\"Height\"])\n",
    "plt.title(\"The height of students\")\n",
    "plt.show()\n",
    "plt.close()"
   ]
  },
  {
   "cell_type": "markdown",
   "metadata": {},
   "source": [
    "We can also visualize the age and weight of the students:"
   ]
  },
  {
   "cell_type": "code",
   "execution_count": null,
   "metadata": {},
   "outputs": [],
   "source": [
    "plt.figure(figsize=(10,5))\n",
    "plt.bar(students_df[\"Name\"], students_df[\"Weight\"], color=\"r\", label=\"Weight\")\n",
    "plt.bar(students_df[\"Name\"], students_df[\"Age\"], color=\"g\", label=\"Age\")\n",
    "plt.title(\"Age and weight of the students\")\n",
    "plt.legend()\n",
    "plt.show()\n",
    "plt.close()"
   ]
  },
  {
   "cell_type": "markdown",
   "metadata": {},
   "source": [
    "## 6.4. Loading tables from local _CSV_ files\n",
    "\n",
    "The most time-consumig and the least appealing job in data analysis is turning raw data into tables. You may not have noticed that because the tables we have been using for demonstration were small, but in real life situations we usually get _huge_ tables with thousands of rows and columns. (Have you ever heard of a part of data science called _Big Data_?)\n",
    "\n",
    "Today we use machines to collected data (automatic meteorogical stations, computerized polling stations etc). The machines then package the data they have collected into some very simple format that we can later load and process. _CSV_ stands for \"comma separated values\" and is one of the simplest (and most popular) formats to represent tables. CSV files are text files whose rows correspond to the rows of the table, and the values within the same row are separated by commas (\"comma separated values\").\n",
    "\n",
    "For example, there is a file _Top 25 YouTubers.csv_ in folder _data_ that looks like this:\n",
    "\n",
    "    RANK,GRADE,NAME,VIDEOS,SUBSCRIBERS,VIEWES\n",
    "    1,A++,T-Series,13629,105783888,76945588449\n",
    "    2,A,PewDiePie,3898,97853589,22298927681\n",
    "    3,A+,5-Minute Crafts,3341,58629572,14860695079\n",
    "    4,A++,Cocomelon - Nursery Rhymes,441,53163816,33519273951\n",
    "    ...\n",
    "    25,A,TheEllenShow,10542,33362512,16519572219\n",
    "\n",
    "This table contains information about top 25 YouTube channels according to the number of subscribers on July 1st, 2019. The first row of the file is the header row which tells us that the table has six columns (RANK, GRADE, NAME, VIDEOS, SUBSCRIBERS, VIEWES). The row\n",
    "\n",
    "    4,A++,Cocomelon - Nursery Rhymes,441,53163816,33519273951\n",
    "\n",
    "means that the 4th most popular YouTube channel (on July 1st, 2019) has YouTube rank A++, its name is \"Cocomelon - Nursery Rhymes\", has published 441 videos on YouTube, has 53,163,816 subscribers and 33,519,273,951 views.\n",
    "\n",
    "The function `read_csv` from `pandas` reads a _CSV_ file and turns it into a _DataFrame_. For example:"
   ]
  },
  {
   "cell_type": "code",
   "execution_count": null,
   "metadata": {},
   "outputs": [],
   "source": [
    "import pandas as pd\n",
    "Top25 = pd.read_csv(\"data/Top 25 YouTubers.csv\")"
   ]
  },
  {
   "cell_type": "markdown",
   "metadata": {},
   "source": [
    "We can peek into the table using the function `head(N)` which displays the first N rows of a table. If we invoke the function without the argument it displays the first five rows:"
   ]
  },
  {
   "cell_type": "code",
   "execution_count": null,
   "metadata": {},
   "outputs": [],
   "source": [
    "Top25.head()"
   ]
  },
  {
   "cell_type": "code",
   "execution_count": null,
   "metadata": {},
   "outputs": [],
   "source": [
    "Top25.head(10)"
   ]
  },
  {
   "cell_type": "markdown",
   "metadata": {},
   "source": [
    "The function `tail(N)` displays the last N rows of the table (or only 5 if no arguemtn is provided):"
   ]
  },
  {
   "cell_type": "code",
   "execution_count": null,
   "metadata": {},
   "outputs": [],
   "source": [
    "Top25.tail()"
   ]
  },
  {
   "cell_type": "code",
   "execution_count": null,
   "metadata": {},
   "outputs": [],
   "source": [
    "Top25.tail(7)"
   ]
  },
  {
   "cell_type": "markdown",
   "metadata": {},
   "source": [
    "Let us visualize the number of subsrcibers of the top 25 YouTube channels:"
   ]
  },
  {
   "cell_type": "code",
   "execution_count": null,
   "metadata": {},
   "outputs": [],
   "source": [
    "plt.figure(figsize=(15,10))\n",
    "plt.bar(Top25[\"NAME\"], Top25[\"SUBSCRIBERS\"])\n",
    "plt.title(\"Top 25 YouTube channels according to the number of subscribers (July 1st, 2019)\")\n",
    "plt.show()\n",
    "plt.close()"
   ]
  },
  {
   "cell_type": "markdown",
   "metadata": {},
   "source": [
    "It's a mess because the names of the channels are too long. In these situations using `barh` instead of `bar` can produce better results:"
   ]
  },
  {
   "cell_type": "code",
   "execution_count": null,
   "metadata": {},
   "outputs": [],
   "source": [
    "plt.figure(figsize=(10,10))\n",
    "plt.barh(Top25[\"NAME\"], Top25[\"SUBSCRIBERS\"])\n",
    "plt.title(\"Top 25 YouTube channels according to the number of subscribers (July 1st, 2019)\")\n",
    "plt.show()\n",
    "plt.close()"
   ]
  },
  {
   "cell_type": "markdown",
   "metadata": {},
   "source": [
    "## 6.5. Loading tables from remote resources\n",
    "\n",
    "You can also load data from a remote resource directly, without the need to download the the data to your machine. In order to load a table from a remote resource you need an Internet connection (of course!) and you have to know the _exact location_ of the table you want to load. The exact location of anu Internet resouce is provided by its _URL_ (which stands for _Universal Resource Locator_).\n",
    "\n",
    "The \"Internet address\"\n",
    "\n",
    "    https://raw.githubusercontent.com/cs109/2014_data/master/countries.csv\n",
    "    \n",
    "contains a publicly available list of all the countries in the world. We can read this table directly using `read_csv`:"
   ]
  },
  {
   "cell_type": "code",
   "execution_count": null,
   "metadata": {
    "scrolled": true
   },
   "outputs": [],
   "source": [
    "countries = pd.read_csv(\"https://raw.githubusercontent.com/cs109/2014_data/master/countries.csv\")\n",
    "countries.head(10)"
   ]
  },
  {
   "cell_type": "markdown",
   "metadata": {},
   "source": [
    "The tables available on the Internet are usually not conveniently pre-packaged into a CSV file. They are most often embedded into a web page and surounded by some extra _HTML_ code (_HTML_ stands for \"hyper-text markup language\" and denotes the language all the web-pages on Earth are coded into).\n",
    "\n",
    "Fortunately, the function `read_html` can take a web-page and extract a table from it. For example, the following code reads the list of all the US states into a DataFrame directly from a Wikipedia web-page:"
   ]
  },
  {
   "cell_type": "code",
   "execution_count": null,
   "metadata": {},
   "outputs": [],
   "source": [
    "US = pd.read_html(\"https://simple.wikipedia.org/wiki/List_of_U.S._states\", header=[0,1])[0]"
   ]
  },
  {
   "cell_type": "markdown",
   "metadata": {},
   "source": [
    "Web pages are complex and can contain several tables. This is why `read_html` returns a list of tables. In this case the table we need is the first in the list, hence the indexing `[0]`. The option `header=[0,1]` means that the first two rows of the table make up the header. Let's peek:"
   ]
  },
  {
   "cell_type": "code",
   "execution_count": null,
   "metadata": {
    "scrolled": true
   },
   "outputs": [],
   "source": [
    "US.head()"
   ]
  },
  {
   "cell_type": "markdown",
   "metadata": {},
   "source": [
    "## 6.6. Exercises"
   ]
  },
  {
   "cell_type": "markdown",
   "metadata": {},
   "source": [
    "**Exercise 1.** Look at the code and answer the questions below:"
   ]
  },
  {
   "cell_type": "code",
   "execution_count": null,
   "metadata": {},
   "outputs": [],
   "source": [
    "import pandas as pd\n",
    "import matplotlib.pyplot as plt\n",
    "\n",
    "students = [[\"Anne\",    \"f\", 13, 46, 160],\n",
    "            [\"Ben\",     \"m\", 14, 52, 165],\n",
    "            [\"Colin\",   \"m\", 13, 47, 157],\n",
    "            [\"Diana\",   \"f\", 15, 54, 165],\n",
    "            [\"Ethan\",   \"m\", 15, 56, 163],\n",
    "            [\"Fred\",    \"m\", 13, 45, 159]]\n",
    "\n",
    "table = pd.DataFrame(students)\n",
    "table.columns=[\"Name\", \"Sex\", \"Age\", \"Weight\", \"Height\"]\n",
    "\n",
    "print(table[\"Height\"].min(), table[\"Height\"].mean(), table[\"Height\"].median())\n",
    "\n",
    "plt.figure(figsize=(10,5))\n",
    "plt.bar(table[\"Name\"], table[\"Height\"])\n",
    "plt.show()\n",
    "plt.close()\n",
    "\n",
    "temp_anomalies = pd.read_csv(\"data/TempAnomalies.csv\", header=None)\n",
    "countries = pd.read_csv(\"https://raw.githubusercontent.com/cs109/2014_data/master/countries.csv\")\n",
    "US = pd.read_html(\"https://simple.wikipedia.org/wiki/List_of_U.S._states\", header=[0,1])[0]"
   ]
  },
  {
   "cell_type": "markdown",
   "metadata": {},
   "source": [
    "1. Why do we have to import two libraries?\n",
    "2. Why do we represent the tables by DataFrames, and not lists?\n",
    "3. What are the names of the columns in the DataFrame `table`?\n",
    "4. What is the difference between `min`, `mean` and `median`?\n",
    "5. What do you have to change to make the chart depict the weight of students?\n",
    "6. How would you load the file `TempAnomalies.csv` if it had a header row?\n",
    "7. Is the DataFrame `countries` created from the information stored locally on your computer?\n",
    "8. What is the format of the table the DataFrame `US` was created from?\n",
    "9. What happens if you type `https://simple.wikipedia.org/wiki/List_of_U.S._states` into the browser?"
   ]
  },
  {
   "cell_type": "markdown",
   "metadata": {},
   "source": [
    "**Exercise 2.** The table below depicts the production of corn a wheat in an agricultural region of Europe (the numbers are in 1000 tons):\n",
    "\n",
    "| Year | Corn  | Wheat |\n",
    "|--|--|--|\n",
    "| 2008 | 6,158 | 2,095 |\n",
    "| 2009 | 6,396 | 2,067 |\n",
    "| 2010 | 7,207 | 1,631 |\n",
    "| 2011 | 6,480 | 2,076 |\n",
    "| 2012 | 3,532 | 1,911 |\n",
    "\n",
    "_(a)_ Turn this table into a list and create a _DataFrame_ from the list. Then compute the maximal yield of corn and the minimal yield of wheat."
   ]
  },
  {
   "cell_type": "markdown",
   "metadata": {},
   "source": [
    "_(b)_ Visualize the data using a bar chart."
   ]
  },
  {
   "cell_type": "markdown",
   "metadata": {},
   "source": [
    "_(c)_ Compute the average yield of corn; then compute the difference between the maximal and the minimal yield of wheat."
   ]
  },
  {
   "cell_type": "markdown",
   "metadata": {},
   "source": [
    "**Exercise 3.** This is an overview of spendings of a family over a year (in the local currency):\n",
    "  \n",
    "  | Item | Jan | Feb | Mar | Apr | May | Jun | Jul | Aug | Sep | Oct | Nov | Dec |\n",
    "  |--------|-----|-----|-----|-----|-----|-----|-----|-----|-----|-----|-----|-----|\n",
    "  | Rent             | 8,251 | 8,436 | 8,524 | 8,388 | 8,241 | 8,196 | 8,004 | 7,996 | 7,991 | 8,015 | 8,353 | 8,456 |\n",
    "  | Electricity      | 4,321 | 4,530 | 4,115 | 3,990 | 3,985 | 3,726 | 3,351 | 3,289 | 3,295 | 3,485 | 3,826 | 3,834 |\n",
    "  | Phone (landline) | 1,425 | 1,538 | 1,623 | 1,489 | 1,521 | 1,485 | 1,491 | 1,399 | 1,467 | 1,531 | 1,410 | 1,385 |\n",
    "  | Phone (cell)     | 2,181 | 2,235 | 2,073 | 1,951 | 1,989 | 1,945 | 3,017 | 2,638 | 2,171 | 1,831 | 1,926 | 1,833 |\n",
    "  | TV and Internet  | 2,399 | 2,399 | 2,399 | 2,399 | 2,399 | 2,399 | 2,399 | 2,399 | 2,399 | 2,399 | 2,399 | 2,399  |\n",
    "  | Transport        | 1,830 | 1,830 | 1,830 | 1,830 | 1,950 | 1,950 | 1,450 | 1,450 | 1,950 | 1,950 | 2,050 | 2,050 |\n",
    "  | Food             | 23,250 | 23,780 | 24,019 | 24,117 | 24,389 | 24,571 | 24,736 | 24,951 | 25,111 | 25,389 | 25,531 | 25,923 |\n",
    "  | Rest             | 4,500 | 3,700 | 5,100 | 3,500 | 2,750 | 4,250 | 7,320 | 8,250 | 3,270 | 4,290 | 3,200 | 8,390 |\n",
    "\n",
    "This table represented as a list looks like this:"
   ]
  },
  {
   "cell_type": "code",
   "execution_count": null,
   "metadata": {},
   "outputs": [],
   "source": [
    "spendings = [\n",
    "  [\"Rent\", 8251, 8436, 8524, 8388, 8241, 8196, 8004, 7996, 7991, 8015, 8353, 8456],\n",
    "  [\"Electricity\", 4321, 4530, 4115, 3990, 3985, 3726, 3351, 3289, 3295, 3485, 3826, 3834],\n",
    "  [\"Landline\", 1425, 1538, 1623, 1489, 1521, 1485, 1491, 1399, 1467, 1531, 1410, 1385],\n",
    "  [\"Cell\", 2181, 2235, 2073, 1951, 1989, 1945, 3017, 2638, 2171, 1831, 1926, 1833],\n",
    "  [\"TV and Internet\", 2399, 2399, 2399, 2399, 2399, 2399, 2399, 2399, 2399, 2399, 2399, 2399 ],\n",
    "  [\"Transport\", 1830, 1830, 1830, 1830, 1950, 1950, 1450, 1450, 1950, 1950, 2050, 2050],\n",
    "  [\"Food\", 23250, 23780, 24019, 24117, 24389, 24571, 24736, 24951, 25111, 25389, 25531, 25923],\n",
    "  [\"Rest\", 4500, 3700, 5100, 3500, 2750, 4250, 7320, 8250, 3270, 4290, 3200, 8390]\n",
    "]"
   ]
  },
  {
   "cell_type": "markdown",
   "metadata": {},
   "source": [
    "_(a)_ Turn this into a _DataFrame_."
   ]
  },
  {
   "cell_type": "markdown",
   "metadata": {},
   "source": [
    "_(b)_ Compute the total spendings per month (how much in January, how much in February, etc)."
   ]
  },
  {
   "cell_type": "code",
   "execution_count": null,
   "metadata": {},
   "outputs": [],
   "source": []
  },
  {
   "cell_type": "markdown",
   "metadata": {},
   "source": [
    "**Exercise 4.** The file _data/LEB.csv_ contains the overall _Life Expectancy at Birth_ of humans computed in five-year periods."
   ]
  },
  {
   "cell_type": "markdown",
   "metadata": {},
   "source": [
    "_(a)_ Load this file into a _DataFrame_."
   ]
  },
  {
   "cell_type": "markdown",
   "metadata": {},
   "source": [
    "_(b)_ Visualize the data."
   ]
  },
  {
   "cell_type": "markdown",
   "metadata": {},
   "source": [
    "**Exercise 5.** At a PE lecture the students were practising long jumps. Each student had three tries and the data is collected in _LongJump.csv_ available in the folder _data_. The first row of the file is the header.\n",
    "\n",
    "_(a)_ Load this file into a _DataFrame_."
   ]
  },
  {
   "cell_type": "markdown",
   "metadata": {},
   "source": [
    "_(b)_ Visualize the data by a bar chart. (Hint: Be creative.)"
   ]
  },
  {
   "cell_type": "code",
   "execution_count": null,
   "metadata": {},
   "outputs": [],
   "source": []
  },
  {
   "cell_type": "markdown",
   "metadata": {},
   "source": [
    "**Exercise 6.** At the following URL\n",
    "\n",
    "    https://raw.githubusercontent.com/resbaz/r-novice-gapminder-files/master/data/gapminder-FiveYearData.csv\n",
    "\n",
    "you can find a publicly available table with the list of countries in the world and some parameters of economic developemnt of the states summarized in five-year intervals. The table has the following columns:\n",
    "\n",
    "* country\n",
    "* year\n",
    "* pop (= population)\n",
    "* continent\n",
    "* lifeExp (= life expextancy; how many years, on average, is a citizen of that country expected to live)\n",
    "* gdpPercap (= GDP per capitem; how much money, on average is US dollars, do citizens of that country earn)\n",
    "\n",
    "Load this table into a _DataFrame_ and display the first 20 rows, as well as the last 10 rows of the table."
   ]
  },
  {
   "cell_type": "code",
   "execution_count": null,
   "metadata": {},
   "outputs": [],
   "source": []
  },
  {
   "cell_type": "markdown",
   "metadata": {},
   "source": [
    "**Exercise 7.** Load the table from the following URL\n",
    "\n",
    "    https://www.worldometers.info/world-population/population-by-country/\n",
    "\n",
    "into a DataFrame and display the first few rows of the table."
   ]
  },
  {
   "cell_type": "code",
   "execution_count": null,
   "metadata": {},
   "outputs": [],
   "source": []
  }
 ],
 "metadata": {
  "kernelspec": {
   "display_name": "Python 3",
   "language": "python",
   "name": "python3"
  },
  "language_info": {
   "codemirror_mode": {
    "name": "ipython",
    "version": 3
   },
   "file_extension": ".py",
   "mimetype": "text/x-python",
   "name": "python",
   "nbconvert_exporter": "python",
   "pygments_lexer": "ipython3",
   "version": "3.7.1"
  }
 },
 "nbformat": 4,
 "nbformat_minor": 2
}

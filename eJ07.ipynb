{
 "cells": [
  {
   "cell_type": "markdown",
   "metadata": {},
   "source": [
    "# 7. Indexing and transposing a table\n",
    "\n",
    "In this lecture we demonstrate:\n",
    "1. how indexing a table provides flexible access to the elements of the table;\n",
    "2. how to compute accross rows and columns of the table; and\n",
    "4. how to transpose a table."
   ]
  },
  {
   "cell_type": "markdown",
   "metadata": {},
   "source": [
    "## 7.1. Indexing"
   ]
  },
  {
   "cell_type": "markdown",
   "metadata": {},
   "source": [
    "We have seen that working with columns of a DataFrame is very easy because colums have names. It would be as easy to work with  rows of a DataFrame if we had a way to name the rows somehow. The process that does precisely that is called the _indexing of a table_.\n",
    "\n",
    "To index a table we first have to identify a column (_the indexing column_ or _the index_) such that each row in _uniquely determined_ by the value in the indexing column. For example, in the following table\n",
    "\n",
    "| __Name__ | __Sex__ | __Age (yrs)__ | __Weight (kg)__ | __Height (cm)__ |\n",
    "|---|---|---|---|---|\n",
    "|     Anne | f | 13 | 46 | 160 |\n",
    "|      Ben | m | 14 | 52 | 165 |\n",
    "|    Colin | m | 13 | 47 | 157 |\n",
    "|    Diana | f | 15 | 54 | 165 |\n",
    "|    Ethan | m | 15 | 56 | 163 |\n",
    "|     Fred | m | 13 | 45 | 159 |\n",
    "|   Gloria | f | 14 | 49 | 161 |\n",
    "|   Hellen | f | 15 | 52 | 164 |\n",
    "|      Ian | m | 15 | 57 | 167 |\n",
    "|     Jane | f | 13 | 45 | 158 |\n",
    "|     Kate | f | 14 | 51 | 162 |\n",
    "\n",
    "\"Name\" is a good candidate for the indexing column because in this table vevery student has a unique name (note that in real life this is not necessarily the case). \"Height\" is not a good choice because there are two students whose height is 165; and the same goes for other columns.\n",
    "\n",
    "The function `set_index` sets the index column of the table:"
   ]
  },
  {
   "cell_type": "code",
   "execution_count": null,
   "metadata": {},
   "outputs": [],
   "source": [
    "import pandas as pd\n",
    "students = [[\"Anne\",    \"f\", 13, 46, 160],\n",
    "            [\"Ben\",     \"m\", 14, 52, 165],\n",
    "            [\"Colin\",   \"m\", 13, 47, 157],\n",
    "            [\"Diana\",   \"f\", 15, 54, 165],\n",
    "            [\"Ethan\",   \"m\", 15, 56, 163],\n",
    "            [\"Fred\",    \"m\", 13, 45, 159],\n",
    "            [\"Gloria\",  \"f\", 14, 49, 161],\n",
    "            [\"Hellen\",  \"f\", 15, 52, 164],\n",
    "            [\"Ian\",     \"m\", 15, 57, 167],\n",
    "            [\"Jane\",    \"f\", 13, 45, 158],\n",
    "            [\"Kate\",    \"f\", 14, 51, 162]]\n",
    "students_df = pd.DataFrame(students)\n",
    "students_df.columns=[\"Name\", \"Sex\", \"Age\", \"Weight\", \"Height\"]\n",
    "\n",
    "students_ix=students_df.set_index(\"Name\")"
   ]
  },
  {
   "cell_type": "markdown",
   "metadata": {},
   "source": [
    "The new table (`students_ix`) differs from the old one (`students_df`) only in the fact that the rows of the table are now _indexed_ by the names of the students. Here is the unidexed version of the table:"
   ]
  },
  {
   "cell_type": "code",
   "execution_count": null,
   "metadata": {},
   "outputs": [],
   "source": [
    "students_df"
   ]
  },
  {
   "cell_type": "markdown",
   "metadata": {},
   "source": [
    "and here is the indexed version of the same table:"
   ]
  },
  {
   "cell_type": "code",
   "execution_count": null,
   "metadata": {},
   "outputs": [],
   "source": [
    "students_ix"
   ]
  },
  {
   "cell_type": "markdown",
   "metadata": {},
   "source": [
    "The column \"Name\" is still present, but now it has a special statis. If we try to access it as we did before we get an error (the error report is quite long; don't bother reading it carefully, just scroll down):"
   ]
  },
  {
   "cell_type": "code",
   "execution_count": null,
   "metadata": {},
   "outputs": [],
   "source": [
    "students_ix[\"Name\"]"
   ]
  },
  {
   "cell_type": "markdown",
   "metadata": {},
   "source": [
    "However, it is there as an _index column_:"
   ]
  },
  {
   "cell_type": "code",
   "execution_count": null,
   "metadata": {},
   "outputs": [],
   "source": [
    "students_ix.index"
   ]
  },
  {
   "cell_type": "markdown",
   "metadata": {},
   "source": [
    "Visualizing, say, the height of the students in the group now works like this:"
   ]
  },
  {
   "cell_type": "code",
   "execution_count": null,
   "metadata": {},
   "outputs": [],
   "source": [
    "import matplotlib.pyplot as plt\n",
    "plt.figure(figsize=(10,5))\n",
    "plt.bar(students_ix.index, students_ix[\"Height\"])\n",
    "plt.title(\"The height of students\")\n",
    "plt.show()\n",
    "plt.close()"
   ]
  },
  {
   "cell_type": "markdown",
   "metadata": {},
   "source": [
    "## 7.2. Accessing rows and individual cells of an indexed table"
   ]
  },
  {
   "cell_type": "markdown",
   "metadata": {},
   "source": [
    "_DataFrame_ is optimized to provide efficient access to the columns of the table. However, in an indexed DataFrame it is also easy to access rows and cells of the table using the function `loc` (short for \"location\").\n",
    "\n",
    "We can display a single row of the table like this:"
   ]
  },
  {
   "cell_type": "code",
   "execution_count": null,
   "metadata": {},
   "outputs": [],
   "source": [
    "students_ix.loc[\"Ethan\"]"
   ]
  },
  {
   "cell_type": "markdown",
   "metadata": {},
   "source": [
    "or a range of rows like this:"
   ]
  },
  {
   "cell_type": "code",
   "execution_count": null,
   "metadata": {
    "scrolled": true
   },
   "outputs": [],
   "source": [
    "students_ix.loc[\"Ethan\":\"Ian\"]"
   ]
  },
  {
   "cell_type": "markdown",
   "metadata": {},
   "source": [
    "We can also focus on a particular feature:"
   ]
  },
  {
   "cell_type": "code",
   "execution_count": null,
   "metadata": {
    "scrolled": true
   },
   "outputs": [],
   "source": [
    "students_ix.loc[\"Ethan\", \"Height\"]"
   ]
  },
  {
   "cell_type": "markdown",
   "metadata": {},
   "source": [
    "or display a set of features for a set of rows:"
   ]
  },
  {
   "cell_type": "code",
   "execution_count": null,
   "metadata": {
    "scrolled": true
   },
   "outputs": [],
   "source": [
    "students_ix.loc[\"Ethan\":\"Ian\", \"Weight\":\"Height\"]"
   ]
  },
  {
   "cell_type": "markdown",
   "metadata": {},
   "source": [
    "## 7.3. Computing accross rows and columns of an indexed table"
   ]
  },
  {
   "cell_type": "markdown",
   "metadata": {},
   "source": [
    "In the table below we have collected the marks of students we have already met in some subjects (Computers, English, Maths, Physics, Chemistry and Arts):"
   ]
  },
  {
   "cell_type": "code",
   "execution_count": null,
   "metadata": {},
   "outputs": [],
   "source": [
    "marks = [[\"Anne\",    5, 3, 5, 2, 4, 5],\n",
    "         [\"Ben\",     5, 5, 5, 5, 5, 5],\n",
    "         [\"Colin\",   4, 5, 3, 4, 5, 4],\n",
    "         [\"Diana\",   5, 5, 5, 5, 5, 5],\n",
    "         [\"Ethan\",   3, 4, 2, 3, 3, 4],\n",
    "         [\"Fred\",    4, 5, 3, 4, 5, 4],\n",
    "         [\"Gloria\",  3, 3, 3, 4, 2, 3],\n",
    "         [\"Hellen\",  5, 5, 4, 5, 4, 5],\n",
    "         [\"Ian\",     4, 5, 4, 4, 3, 5],\n",
    "         [\"Jane\",    2, 2, 2, 2, 2, 5],\n",
    "         [\"Kate\",    3, 4, 5, 4, 5, 5]]"
   ]
  },
  {
   "cell_type": "markdown",
   "metadata": {},
   "source": [
    "Let's turn this into an indexed DataFrame"
   ]
  },
  {
   "cell_type": "code",
   "execution_count": null,
   "metadata": {},
   "outputs": [],
   "source": [
    "marks_df = pd.DataFrame(marks)\n",
    "marks_df.columns=[\"Name\", \"Computers\", \"English\", \"Maths\", \"Physics\", \"Chemistry\", \"Arts\"]\n",
    "marks_ix = marks_df.set_index(\"Name\")\n",
    "marks_ix"
   ]
  },
  {
   "cell_type": "markdown",
   "metadata": {},
   "source": [
    "Computing the average mark per subject is easy: we just apply `mean` to each column of the table:"
   ]
  },
  {
   "cell_type": "code",
   "execution_count": null,
   "metadata": {},
   "outputs": [],
   "source": [
    "for subj in marks_ix.columns:\n",
    "    print(subj, \"->\", round(marks_ix[subj].mean(), 2))"
   ]
  },
  {
   "cell_type": "markdown",
   "metadata": {},
   "source": [
    "To compute the average mark per student we shall apply `mean` to the rows of the table, which we access using `loc`. As a warm-up let us compute the average mark for Kate:"
   ]
  },
  {
   "cell_type": "code",
   "execution_count": null,
   "metadata": {
    "scrolled": true
   },
   "outputs": [],
   "source": [
    "print(\"Kate's marks:\")\n",
    "print(marks_ix.loc[\"Kate\"])\n",
    "print(\"The average mark:\", round(marks_ix.loc[\"Kate\"].mean(), 2))"
   ]
  },
  {
   "cell_type": "markdown",
   "metadata": {},
   "source": [
    "The names of all the students are located in the index column, so the average mark of each student in the table can be computed like this:"
   ]
  },
  {
   "cell_type": "code",
   "execution_count": null,
   "metadata": {
    "scrolled": true
   },
   "outputs": [],
   "source": [
    "for student in marks_ix.index:\n",
    "    print(student, \"->\", round(marks_ix.loc[student].mean(), 2))"
   ]
  },
  {
   "cell_type": "markdown",
   "metadata": {},
   "source": [
    "## 7.4. Transposing a table\n",
    "\n",
    "_Transposing_ a table is an operation that swaps the rows and columns of the table so that the first row swaps with first column, the second row swaps with the secong column and so on. When transposing an indexed DataFrame the names of the columns become the index row of the new table, while the index row gives names of the columns in the new table.\n",
    "\n",
    "![Transpose](pics/DataFrame-T.jpg)\n",
    "\n",
    "Recall that DataFrames are optimized for efficient access to columns of the table. Therefore, it is convenient to transpose a table which has a few very long rows. Of coruse, we don't have to transpose a table to be able to work with it efficiently (since `loc` gives access to rows of the table), so transposing a table is a matter of taste or convenience.\n",
    "\n",
    "To transpose a table just apply `T` to get the new, transposed table. For example recall that:"
   ]
  },
  {
   "cell_type": "code",
   "execution_count": null,
   "metadata": {
    "scrolled": true
   },
   "outputs": [],
   "source": [
    "marks_ix"
   ]
  },
  {
   "cell_type": "markdown",
   "metadata": {},
   "source": [
    "After transposing:"
   ]
  },
  {
   "cell_type": "code",
   "execution_count": null,
   "metadata": {},
   "outputs": [],
   "source": [
    "marks_tr = marks_ix.T"
   ]
  },
  {
   "cell_type": "markdown",
   "metadata": {},
   "source": [
    "the new table looks line this:"
   ]
  },
  {
   "cell_type": "code",
   "execution_count": null,
   "metadata": {},
   "outputs": [],
   "source": [
    "marks_tr"
   ]
  },
  {
   "cell_type": "markdown",
   "metadata": {},
   "source": [
    "Let's check what happened to `index` and `columns`. In the original table we have:"
   ]
  },
  {
   "cell_type": "code",
   "execution_count": null,
   "metadata": {},
   "outputs": [],
   "source": [
    "marks_ix.index"
   ]
  },
  {
   "cell_type": "code",
   "execution_count": null,
   "metadata": {},
   "outputs": [],
   "source": [
    "marks_ix.columns"
   ]
  },
  {
   "cell_type": "markdown",
   "metadata": {},
   "source": [
    "while in the transposed table we have:"
   ]
  },
  {
   "cell_type": "code",
   "execution_count": null,
   "metadata": {},
   "outputs": [],
   "source": [
    "marks_tr.index"
   ]
  },
  {
   "cell_type": "code",
   "execution_count": null,
   "metadata": {},
   "outputs": [],
   "source": [
    "marks_tr.columns"
   ]
  },
  {
   "cell_type": "markdown",
   "metadata": {},
   "source": [
    "As we have already seen, the average mark per subject can be computed easily:"
   ]
  },
  {
   "cell_type": "code",
   "execution_count": null,
   "metadata": {},
   "outputs": [],
   "source": [
    "for subj in marks_ix.columns:\n",
    "    print(subj, \"->\", round(marks_ix[subj].mean(), 2))"
   ]
  },
  {
   "cell_type": "markdown",
   "metadata": {},
   "source": [
    "To compute the average marks for each student, we can use `loc` to access the rows of the original table, but we can alsoapply the same logic as above, but to the transposed table:"
   ]
  },
  {
   "cell_type": "code",
   "execution_count": null,
   "metadata": {},
   "outputs": [],
   "source": [
    "for student in marks_tr.columns:\n",
    "    print(student, \"->\", round(marks_tr[student].mean(), 2))"
   ]
  },
  {
   "cell_type": "markdown",
   "metadata": {},
   "source": [
    "## 7.5. Exercises"
   ]
  },
  {
   "cell_type": "markdown",
   "metadata": {},
   "source": [
    "**Exercise 1.** Look carefully at the code below and then answer the questions that follow:"
   ]
  },
  {
   "cell_type": "code",
   "execution_count": null,
   "metadata": {},
   "outputs": [],
   "source": [
    "import pandas as pd\n",
    "students = [[\"Anne\",    \"f\", 13, 46, 160],\n",
    "            [\"Ben\",     \"m\", 14, 52, 165],\n",
    "            [\"Colin\",   \"m\", 13, 47, 157],\n",
    "            [\"Diana\",   \"f\", 15, 54, 165],\n",
    "            [\"Ethan\",   \"m\", 15, 56, 163],\n",
    "            [\"Fred\",    \"m\", 13, 45, 159],\n",
    "            [\"Gloria\",  \"f\", 14, 49, 161],\n",
    "            [\"Hellen\",  \"f\", 15, 52, 164],\n",
    "            [\"Ian\",     \"m\", 15, 57, 167],\n",
    "            [\"Jane\",    \"f\", 13, 45, 158],\n",
    "            [\"Kate\",    \"f\", 14, 51, 162]]\n",
    "students_df = pd.DataFrame(students)\n",
    "students_df.columns=[\"Name\", \"Sex\", \"Age\", \"Weight\", \"Height\"]\n",
    "students_ix=students_df.set_index(\"Name\")\n",
    "\n",
    "temp_anomalies = pd.read_csv(\"data/TempAnomalies.csv\", header=None)\n",
    "temp_anomalies_tr = temp_anomalies.T\n",
    "temp_anomalies_tr.columns = [\"Year\", \"Anomaly\"]"
   ]
  },
  {
   "cell_type": "markdown",
   "metadata": {},
   "source": [
    "1. What is the difference between `students_df` and `students_ix`?\n",
    "2. What does `students_ix.index` mean?\n",
    "3. What is the value of `students_ix.loc[\"Fred\"]`?\n",
    "4. What is the value of `students_ix.loc[\"Fred\", \"Height\"]`?\n",
    "5. What is the value of `students_df.loc[\"Fred\", \"Height\"]`?\n",
    "6. What do you think, why did we apply `T` to `temp_anomalies`?\n",
    "7. How many columns does `temp_anomalies_tr` have?"
   ]
  },
  {
   "cell_type": "markdown",
   "metadata": {},
   "source": [
    "**Exercise 2.** This is an overview of spendings of a family over a year (in the local currency):\n",
    "  \n",
    "  | Item | Jan | Feb | Mar | Apr | May | Jun | Jul | Aug | Sep | Oct | Nov | Dec |\n",
    "  |--------|-----|-----|-----|-----|-----|-----|-----|-----|-----|-----|-----|-----|\n",
    "  | Rent             | 8,251 | 8,436 | 8,524 | 8,388 | 8,241 | 8,196 | 8,004 | 7,996 | 7,991 | 8,015 | 8,353 | 8,456 |\n",
    "  | Electricity      | 4,321 | 4,530 | 4,115 | 3,990 | 3,985 | 3,726 | 3,351 | 3,289 | 3,295 | 3,485 | 3,826 | 3,834 |\n",
    "  | Phone (landline) | 1,425 | 1,538 | 1,623 | 1,489 | 1,521 | 1,485 | 1,491 | 1,399 | 1,467 | 1,531 | 1,410 | 1,385 |\n",
    "  | Phone (cell)     | 2,181 | 2,235 | 2,073 | 1,951 | 1,989 | 1,945 | 3,017 | 2,638 | 2,171 | 1,831 | 1,926 | 1,833 |\n",
    "  | TV and Internet  | 2,399 | 2,399 | 2,399 | 2,399 | 2,399 | 2,399 | 2,399 | 2,399 | 2,399 | 2,399 | 2,399 | 2,399  |\n",
    "  | Transport        | 1,830 | 1,830 | 1,830 | 1,830 | 1,950 | 1,950 | 1,450 | 1,450 | 1,950 | 1,950 | 2,050 | 2,050 |\n",
    "  | Food             | 23,250 | 23,780 | 24,019 | 24,117 | 24,389 | 24,571 | 24,736 | 24,951 | 25,111 | 25,389 | 25,531 | 25,923 |\n",
    "  | Rest             | 4,500 | 3,700 | 5,100 | 3,500 | 2,750 | 4,250 | 7,320 | 8,250 | 3,270 | 4,290 | 3,200 | 8,390 |\n",
    "\n",
    "This table represented as a list looks like this:"
   ]
  },
  {
   "cell_type": "code",
   "execution_count": null,
   "metadata": {},
   "outputs": [],
   "source": [
    "spendings = [\n",
    "  [\"Rent\", 8251, 8436, 8524, 8388, 8241, 8196, 8004, 7996, 7991, 8015, 8353, 8456],\n",
    "  [\"Electricity\", 4321, 4530, 4115, 3990, 3985, 3726, 3351, 3289, 3295, 3485, 3826, 3834],\n",
    "  [\"Landline\", 1425, 1538, 1623, 1489, 1521, 1485, 1491, 1399, 1467, 1531, 1410, 1385],\n",
    "  [\"Cell\", 2181, 2235, 2073, 1951, 1989, 1945, 3017, 2638, 2171, 1831, 1926, 1833],\n",
    "  [\"TV and Internet\", 2399, 2399, 2399, 2399, 2399, 2399, 2399, 2399, 2399, 2399, 2399, 2399 ],\n",
    "  [\"Transport\", 1830, 1830, 1830, 1830, 1950, 1950, 1450, 1450, 1950, 1950, 2050, 2050],\n",
    "  [\"Food\", 23250, 23780, 24019, 24117, 24389, 24571, 24736, 24951, 25111, 25389, 25531, 25923],\n",
    "  [\"Rest\", 4500, 3700, 5100, 3500, 2750, 4250, 7320, 8250, 3270, 4290, 3200, 8390]\n",
    "]"
   ]
  },
  {
   "cell_type": "markdown",
   "metadata": {},
   "source": [
    "_(a)_ Convert this list into a _DataFrame_ and index it."
   ]
  },
  {
   "cell_type": "markdown",
   "metadata": {},
   "source": [
    "_(b)_ Calculate the average spending of this family per item (Rent, Electricity etc)."
   ]
  },
  {
   "cell_type": "markdown",
   "metadata": {},
   "source": [
    "**Exercise 3.** Five groups of students took part in a student poll about their favourite movie genres. Each student was allowed to vote for exactly one genre. The results of the poll are summarized below:\n",
    "\n",
    "| Genre | Group 1 | Group 2 | Group 3 | Group 4 | Group 5 |\n",
    "|------|-----|-----|-----|-----|-----|\n",
    "| Comedy | 4 | 3 | 5 | 2 | 3 |\n",
    "| Horror | 1 | 0 | 2 | 1 | 6 |\n",
    "| SF | 10 | 7 | 9 | 8 | 9 |\n",
    "| Adventure | 4 | 3 | 4 | 2 | 2 |\n",
    "| History | 1 | 0 | 2 | 0 | 0 |\n",
    "| Romance | 11 | 10 | 7 | 9 | 8 |"
   ]
  },
  {
   "cell_type": "markdown",
   "metadata": {},
   "source": [
    "_(a)_ COnvert this into a _DataFrame_ indexed by genre."
   ]
  },
  {
   "cell_type": "markdown",
   "metadata": {},
   "source": [
    "_(b)_ Compute the number of votes per genre."
   ]
  },
  {
   "cell_type": "markdown",
   "metadata": {},
   "source": [
    "_(c)_ For each group compute the total number of students that took part in polling."
   ]
  },
  {
   "cell_type": "markdown",
   "metadata": {},
   "source": [
    "_(d)_ What is the total number of students that took part in polling?"
   ]
  },
  {
   "cell_type": "markdown",
   "metadata": {},
   "source": [
    "**Exercise 4.** Nutritive data for certain products in given in the table below:\n",
    "\n",
    "| Product (100g) | Nutritive value (kcal) | Carbohydrates (g) | Proteins (g) | Fats (g) |\n",
    "|--|--|--|--|--|\n",
    "| Rye bread | 250 | 48.2 | 8.4 | 1.0 |\n",
    "| White bread | 280 | 57.5 | 6.8 | 0.5 |\n",
    "| Cheese spread | 127 | 4.0 | 3.1 | 10.5 |\n",
    "| Margarin | 532 | 4.6 | 3.2 | 1.5 |\n",
    "| Yoghurt | 48 | 4.7 | 4.0 | 3.3 |\n",
    "| Milk (2.8%) | 57 | 4.7 | 3.3 | 2.8 |\n",
    "| Salami | 523 | 1.0 | 17.0 | 47.0 |\n",
    "| Ham | 268 | 0.0 | 25.5 | 18.4 |\n",
    "| Chicken breast | 110 | 0.0 | 23.1 | 1.2 |\n",
    "\n",
    "In the cell below we have converted this table into a _DataFrame_ indexed by the product name:"
   ]
  },
  {
   "cell_type": "code",
   "execution_count": null,
   "metadata": {},
   "outputs": [],
   "source": [
    "food = pd.DataFrame([\n",
    "    [\"R-bread\", 250, 48.2, 8.4, 1.0],\n",
    "    [\"W-bread\", 280, 57.5, 6.8, 0.5],\n",
    "    [\"Spread\", 127, 4.0, 3.1, 10.5],\n",
    "    [\"Margarin\", 532, 4.6, 3.2, 1.5],\n",
    "    [\"Yoghurt\", 48, 4.7, 4.0, 3.3],\n",
    "    [\"Milk\", 57, 4.7, 3.3, 2.8],\n",
    "    [\"Salami\", 523, 1.0, 17.0, 47.0],\n",
    "    [\"Ham\", 268, 0.0, 25.5, 18.4],\n",
    "    [\"ChBreast\", 110, 0.0, 23.1, 1.2]])\n",
    "food.columns=[\"Product\", \"NutrVal\", \"Carbs\", \"Proteins\", \"Fats\"]\n",
    "food_ix = food.set_index(\"Product\")"
   ]
  },
  {
   "cell_type": "markdown",
   "metadata": {},
   "source": [
    "_(a)_ For his breakfast Mike had two pieces of white bread and had a cup of milk. Each piece of bread had some cheese spread and a slice of ham. What is the nutritive value of Mike's breakfast (in kcal) if we assume that each piece of bread weighs 100g, that 10h of spread was used per piece of bread, that one slice of ham weighs 20g and that a cup of milk contains 200 d of milk?"
   ]
  },
  {
   "cell_type": "markdown",
   "metadata": {},
   "source": [
    "_(b)_ How much fat was there in Mike's breakfast?"
   ]
  },
  {
   "cell_type": "markdown",
   "metadata": {},
   "source": [
    "_(c)_ Visualize the amount of carohydrates in these products."
   ]
  },
  {
   "cell_type": "markdown",
   "metadata": {},
   "source": [
    "**Exercise 5.** The temperature anomaly is a number that tells us how much the average temperature in a particular year deviates from the optimal value. The file _TempAnomalies.csv_ located in the folder _data_ contains the temperature anomalies (in degrees Celsius) for the peroid of 40 years (1977-2017). The file has two rows like this:\n",
    "\n",
    "    1977,1978,1979,1980,1981,...\n",
    "    0.22,0.14,0.15,0.3,0.37,...\n",
    "\n",
    "_(a)_ Load the table into a _DataFrame_ (Note: the table has no header so you need the `header=None` option in your `read_scv`.)"
   ]
  },
  {
   "cell_type": "code",
   "execution_count": null,
   "metadata": {},
   "outputs": [],
   "source": []
  },
  {
   "cell_type": "markdown",
   "metadata": {},
   "source": [
    "_(b)_ Transpose the table and call the two columns \"Year\" and \"Anomaly\"."
   ]
  },
  {
   "cell_type": "code",
   "execution_count": null,
   "metadata": {},
   "outputs": [],
   "source": []
  },
  {
   "cell_type": "markdown",
   "metadata": {},
   "source": [
    "_(c)_ Index the table."
   ]
  },
  {
   "cell_type": "code",
   "execution_count": null,
   "metadata": {},
   "outputs": [],
   "source": []
  },
  {
   "cell_type": "markdown",
   "metadata": {},
   "source": [
    "_(d)_ Visualize the temperature anomalies by a line chart."
   ]
  },
  {
   "cell_type": "code",
   "execution_count": null,
   "metadata": {},
   "outputs": [],
   "source": []
  }
 ],
 "metadata": {
  "kernelspec": {
   "display_name": "Python 3",
   "language": "python",
   "name": "python3"
  },
  "language_info": {
   "codemirror_mode": {
    "name": "ipython",
    "version": 3
   },
   "file_extension": ".py",
   "mimetype": "text/x-python",
   "name": "python",
   "nbconvert_exporter": "python",
   "pygments_lexer": "ipython3",
   "version": "3.7.1"
  }
 },
 "nbformat": 4,
 "nbformat_minor": 2
}
